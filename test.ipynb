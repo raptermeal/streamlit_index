{
 "cells": [
  {
   "cell_type": "code",
   "execution_count": 5,
   "metadata": {},
   "outputs": [
    {
     "name": "stdout",
     "output_type": "stream",
     "text": [
      "    국가       환율코드          날짜       종가\n",
      "0  베트남  FX_USDVND  2025-04-29  26005.0\n",
      "1  베트남  FX_USDVND  2025-04-28  26000.0\n",
      "2  베트남  FX_USDVND  2025-04-26  26021.5\n",
      "3  베트남  FX_USDVND  2025-04-25  26021.5\n",
      "4  베트남  FX_USDVND  2025-04-24  26029.0\n"
     ]
    }
   ],
   "source": [
    "import requests\n",
    "from bs4 import BeautifulSoup\n",
    "import pandas as pd\n",
    "from datetime import datetime\n",
    "\n",
    "# ✅ 국가별 코드 및 URL 타입 지정\n",
    "target_list = [\n",
    "    (\"FX_USDVND\", \"베트남\", \"world\"),\n",
    "    (\"FX_USDIDR\", \"인도네시아\", \"world\"),\n",
    "    (\"FX_USDPHP\", \"필리핀\", \"world\"),\n",
    "    (\"FX_USDCNY\", \"중국\", \"world\"),\n",
    "    (\"FX_USDKRW\", \"한국\", \"domestic\"),  # 한국은 URL이 다름\n",
    "]\n",
    "\n",
    "# ✅ 결과 리스트\n",
    "all_data = []\n",
    "headers = {\"User-Agent\": \"Mozilla/5.0\"}\n",
    "\n",
    "for code, country, source in target_list:\n",
    "    if source == \"world\":\n",
    "        url = f\"https://finance.naver.com/marketindex/worldDailyQuote.naver?fdtc=4&marketindexCd={code}&page=1&pageSize=500\"\n",
    "    else:\n",
    "        url = f\"https://finance.naver.com/marketindex/exchangeDailyQuote.naver?marketindexCd={code}&page=1&pageSize=500\"\n",
    "\n",
    "    response = requests.get(url, headers=headers)\n",
    "    soup = BeautifulSoup(response.text, \"html.parser\")\n",
    "    table = soup.select_one(\"table.tbl_exchange\")\n",
    "    rows = table.select(\"tbody > tr\")\n",
    "\n",
    "    for row in rows:\n",
    "        cols = row.select(\"td\")\n",
    "        if len(cols) < 2:\n",
    "            continue\n",
    "        raw_date = cols[0].text.strip()\n",
    "        raw_close = cols[1].text.strip().replace(\",\", \"\")\n",
    "        try:\n",
    "            date_fmt = datetime.strptime(raw_date, \"%Y.%m.%d\").strftime(\"%Y-%m-%d\")\n",
    "            close = float(raw_close)\n",
    "            all_data.append([country, code, date_fmt, close])\n",
    "        except ValueError:\n",
    "            continue\n",
    "\n",
    "# ✅ DataFrame 생성\n",
    "df_all = pd.DataFrame(all_data, columns=[\"국가\", \"환율코드\", \"날짜\", \"종가\"])\n",
    "print(df_all.head())\n"
   ]
  },
  {
   "cell_type": "code",
   "execution_count": 4,
   "metadata": {},
   "outputs": [
    {
     "name": "stdout",
     "output_type": "stream",
     "text": [
      "   국가       환율코드          날짜      종가\n",
      "0  한국  FX_USDKRW  2025-04-30  1430.8\n",
      "1  한국  FX_USDKRW  2025-04-29  1434.0\n",
      "2  한국  FX_USDKRW  2025-04-28  1437.0\n",
      "3  한국  FX_USDKRW  2025-04-25  1439.5\n",
      "4  한국  FX_USDKRW  2025-04-24  1432.0\n"
     ]
    }
   ],
   "source": [
    "import requests\n",
    "from bs4 import BeautifulSoup\n",
    "import pandas as pd\n",
    "from datetime import datetime\n",
    "\n",
    "# ✅ 타겟 URL\n",
    "url = \"https://finance.naver.com/marketindex/exchangeDailyQuote.naver?marketindexCd=FX_USDKRW&page=1&pageSize=500\"\n",
    "headers = {\"User-Agent\": \"Mozilla/5.0\"}\n",
    "\n",
    "# ✅ 요청 및 파싱\n",
    "response = requests.get(url, headers=headers)\n",
    "soup = BeautifulSoup(response.text, \"html.parser\")\n",
    "table = soup.select_one(\"table.tbl_exchange\")\n",
    "rows = table.select(\"tbody > tr\")\n",
    "\n",
    "# ✅ 데이터 수집\n",
    "data = []\n",
    "for row in rows:\n",
    "    cols = row.select(\"td\")\n",
    "    if len(cols) < 2:\n",
    "        continue\n",
    "    raw_date = cols[0].text.strip()\n",
    "    raw_close = cols[1].text.strip().replace(\",\", \"\")\n",
    "    try:\n",
    "        date_fmt = datetime.strptime(raw_date, \"%Y.%m.%d\").strftime(\"%Y-%m-%d\")\n",
    "        close = float(raw_close)\n",
    "        data.append([\"한국\", \"FX_USDKRW\", date_fmt, close])\n",
    "    except ValueError:\n",
    "        continue\n",
    "\n",
    "# ✅ DataFrame 생성\n",
    "df_krw = pd.DataFrame(data, columns=[\"국가\", \"환율코드\", \"날짜\", \"종가\"])\n",
    "\n",
    "# ✅ 출력\n",
    "print(df_krw.head())\n"
   ]
  }
 ],
 "metadata": {
  "kernelspec": {
   "display_name": "da",
   "language": "python",
   "name": "python3"
  },
  "language_info": {
   "codemirror_mode": {
    "name": "ipython",
    "version": 3
   },
   "file_extension": ".py",
   "mimetype": "text/x-python",
   "name": "python",
   "nbconvert_exporter": "python",
   "pygments_lexer": "ipython3",
   "version": "3.10.17"
  }
 },
 "nbformat": 4,
 "nbformat_minor": 2
}
